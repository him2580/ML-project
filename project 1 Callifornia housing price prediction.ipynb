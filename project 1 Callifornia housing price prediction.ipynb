{
 "cells": [
  {
   "cell_type": "code",
   "execution_count": 1,
   "metadata": {},
   "outputs": [],
   "source": [
    "import numpy as np\n",
    "import pandas as pd\n",
    "from sklearn.preprocessing import LabelEncoder\n",
    "import matplotlib.pyplot as plt\n",
    "from sklearn.model_selection import train_test_split\n",
    "from sklearn.linear_model import LinearRegression\n",
    "from sklearn.metrics import r2_score, mean_squared_error\n",
    "from sklearn.tree import DecisionTreeRegressor\n",
    "from sklearn.ensemble import RandomForestRegressor\n",
    "from sklearn import model_selection"
   ]
  },
  {
   "cell_type": "code",
   "execution_count": 4,
   "metadata": {},
   "outputs": [
    {
     "name": "stdout",
     "output_type": "stream",
     "text": [
      "       longitude  latitude  housing_median_age  total_rooms  total_bedrooms  \\\n",
      "0        -122.23     37.88                41.0        880.0           129.0   \n",
      "1        -122.22     37.86                21.0       7099.0          1106.0   \n",
      "2        -122.24     37.85                52.0       1467.0           190.0   \n",
      "3        -122.25     37.85                52.0       1274.0           235.0   \n",
      "4        -122.25     37.85                52.0       1627.0           280.0   \n",
      "5        -122.25     37.85                52.0        919.0           213.0   \n",
      "6        -122.25     37.84                52.0       2535.0           489.0   \n",
      "7        -122.25     37.84                52.0       3104.0           687.0   \n",
      "8        -122.26     37.84                42.0       2555.0           665.0   \n",
      "9        -122.25     37.84                52.0       3549.0           707.0   \n",
      "10       -122.26     37.85                52.0       2202.0           434.0   \n",
      "11       -122.26     37.85                52.0       3503.0           752.0   \n",
      "12       -122.26     37.85                52.0       2491.0           474.0   \n",
      "13       -122.26     37.84                52.0        696.0           191.0   \n",
      "14       -122.26     37.85                52.0       2643.0           626.0   \n",
      "15       -122.26     37.85                50.0       1120.0           283.0   \n",
      "16       -122.27     37.85                52.0       1966.0           347.0   \n",
      "17       -122.27     37.85                52.0       1228.0           293.0   \n",
      "18       -122.26     37.84                50.0       2239.0           455.0   \n",
      "19       -122.27     37.84                52.0       1503.0           298.0   \n",
      "20       -122.27     37.85                40.0        751.0           184.0   \n",
      "21       -122.27     37.85                42.0       1639.0           367.0   \n",
      "22       -122.27     37.84                52.0       2436.0           541.0   \n",
      "23       -122.27     37.84                52.0       1688.0           337.0   \n",
      "24       -122.27     37.84                52.0       2224.0           437.0   \n",
      "25       -122.28     37.85                41.0        535.0           123.0   \n",
      "26       -122.28     37.85                49.0       1130.0           244.0   \n",
      "27       -122.28     37.85                52.0       1898.0           421.0   \n",
      "28       -122.28     37.84                50.0       2082.0           492.0   \n",
      "29       -122.28     37.84                52.0        729.0           160.0   \n",
      "...          ...       ...                 ...          ...             ...   \n",
      "20610    -121.56     39.10                28.0       2130.0           484.0   \n",
      "20611    -121.55     39.10                27.0       1783.0           441.0   \n",
      "20612    -121.56     39.08                26.0       1377.0           289.0   \n",
      "20613    -121.55     39.09                31.0       1728.0           365.0   \n",
      "20614    -121.54     39.08                26.0       2276.0           460.0   \n",
      "20615    -121.54     39.08                23.0       1076.0           216.0   \n",
      "20616    -121.53     39.08                15.0       1810.0           441.0   \n",
      "20617    -121.53     39.06                20.0        561.0           109.0   \n",
      "20618    -121.55     39.06                25.0       1332.0           247.0   \n",
      "20619    -121.56     39.01                22.0       1891.0           340.0   \n",
      "20620    -121.48     39.05                40.0        198.0            41.0   \n",
      "20621    -121.47     39.01                37.0       1244.0           247.0   \n",
      "20622    -121.44     39.00                20.0        755.0           147.0   \n",
      "20623    -121.37     39.03                32.0       1158.0           244.0   \n",
      "20624    -121.41     39.04                16.0       1698.0           300.0   \n",
      "20625    -121.52     39.12                37.0        102.0            17.0   \n",
      "20626    -121.43     39.18                36.0       1124.0           184.0   \n",
      "20627    -121.32     39.13                 5.0        358.0            65.0   \n",
      "20628    -121.48     39.10                19.0       2043.0           421.0   \n",
      "20629    -121.39     39.12                28.0      10035.0          1856.0   \n",
      "20630    -121.32     39.29                11.0       2640.0           505.0   \n",
      "20631    -121.40     39.33                15.0       2655.0           493.0   \n",
      "20632    -121.45     39.26                15.0       2319.0           416.0   \n",
      "20633    -121.53     39.19                27.0       2080.0           412.0   \n",
      "20634    -121.56     39.27                28.0       2332.0           395.0   \n",
      "20635    -121.09     39.48                25.0       1665.0           374.0   \n",
      "20636    -121.21     39.49                18.0        697.0           150.0   \n",
      "20637    -121.22     39.43                17.0       2254.0           485.0   \n",
      "20638    -121.32     39.43                18.0       1860.0           409.0   \n",
      "20639    -121.24     39.37                16.0       2785.0           616.0   \n",
      "\n",
      "       population  households  median_income  median_house_value  \\\n",
      "0           322.0       126.0         8.3252            452600.0   \n",
      "1          2401.0      1138.0         8.3014            358500.0   \n",
      "2           496.0       177.0         7.2574            352100.0   \n",
      "3           558.0       219.0         5.6431            341300.0   \n",
      "4           565.0       259.0         3.8462            342200.0   \n",
      "5           413.0       193.0         4.0368            269700.0   \n",
      "6          1094.0       514.0         3.6591            299200.0   \n",
      "7          1157.0       647.0         3.1200            241400.0   \n",
      "8          1206.0       595.0         2.0804            226700.0   \n",
      "9          1551.0       714.0         3.6912            261100.0   \n",
      "10          910.0       402.0         3.2031            281500.0   \n",
      "11         1504.0       734.0         3.2705            241800.0   \n",
      "12         1098.0       468.0         3.0750            213500.0   \n",
      "13          345.0       174.0         2.6736            191300.0   \n",
      "14         1212.0       620.0         1.9167            159200.0   \n",
      "15          697.0       264.0         2.1250            140000.0   \n",
      "16          793.0       331.0         2.7750            152500.0   \n",
      "17          648.0       303.0         2.1202            155500.0   \n",
      "18          990.0       419.0         1.9911            158700.0   \n",
      "19          690.0       275.0         2.6033            162900.0   \n",
      "20          409.0       166.0         1.3578            147500.0   \n",
      "21          929.0       366.0         1.7135            159800.0   \n",
      "22         1015.0       478.0         1.7250            113900.0   \n",
      "23          853.0       325.0         2.1806             99700.0   \n",
      "24         1006.0       422.0         2.6000            132600.0   \n",
      "25          317.0       119.0         2.4038            107500.0   \n",
      "26          607.0       239.0         2.4597             93800.0   \n",
      "27         1102.0       397.0         1.8080            105500.0   \n",
      "28         1131.0       473.0         1.6424            108900.0   \n",
      "29          395.0       155.0         1.6875            132000.0   \n",
      "...           ...         ...            ...                 ...   \n",
      "20610      1195.0       439.0         1.3631             45500.0   \n",
      "20611      1163.0       409.0         1.2857             47000.0   \n",
      "20612       761.0       267.0         1.4934             48300.0   \n",
      "20613      1167.0       384.0         1.4958             53400.0   \n",
      "20614      1455.0       474.0         2.4695             58000.0   \n",
      "20615       724.0       197.0         2.3598             57500.0   \n",
      "20616      1157.0       375.0         2.0469             55100.0   \n",
      "20617       308.0       114.0         3.3021             70800.0   \n",
      "20618       726.0       226.0         2.2500             63400.0   \n",
      "20619      1023.0       296.0         2.7303             99100.0   \n",
      "20620       151.0        48.0         4.5625            100000.0   \n",
      "20621       484.0       157.0         2.3661             77500.0   \n",
      "20622       457.0       157.0         2.4167             67000.0   \n",
      "20623       598.0       227.0         2.8235             65500.0   \n",
      "20624       731.0       291.0         3.0739             87200.0   \n",
      "20625        29.0        14.0         4.1250             72000.0   \n",
      "20626       504.0       171.0         2.1667             93800.0   \n",
      "20627       169.0        59.0         3.0000            162500.0   \n",
      "20628      1018.0       390.0         2.5952             92400.0   \n",
      "20629      6912.0      1818.0         2.0943            108300.0   \n",
      "20630      1257.0       445.0         3.5673            112000.0   \n",
      "20631      1200.0       432.0         3.5179            107200.0   \n",
      "20632      1047.0       385.0         3.1250            115600.0   \n",
      "20633      1082.0       382.0         2.5495             98300.0   \n",
      "20634      1041.0       344.0         3.7125            116800.0   \n",
      "20635       845.0       330.0         1.5603             78100.0   \n",
      "20636       356.0       114.0         2.5568             77100.0   \n",
      "20637      1007.0       433.0         1.7000             92300.0   \n",
      "20638       741.0       349.0         1.8672             84700.0   \n",
      "20639      1387.0       530.0         2.3886             89400.0   \n",
      "\n",
      "      ocean_proximity  \n",
      "0            NEAR BAY  \n",
      "1            NEAR BAY  \n",
      "2            NEAR BAY  \n",
      "3            NEAR BAY  \n",
      "4            NEAR BAY  \n",
      "5            NEAR BAY  \n",
      "6            NEAR BAY  \n",
      "7            NEAR BAY  \n",
      "8            NEAR BAY  \n",
      "9            NEAR BAY  \n",
      "10           NEAR BAY  \n",
      "11           NEAR BAY  \n",
      "12           NEAR BAY  \n",
      "13           NEAR BAY  \n",
      "14           NEAR BAY  \n",
      "15           NEAR BAY  \n",
      "16           NEAR BAY  \n",
      "17           NEAR BAY  \n",
      "18           NEAR BAY  \n",
      "19           NEAR BAY  \n",
      "20           NEAR BAY  \n",
      "21           NEAR BAY  \n",
      "22           NEAR BAY  \n",
      "23           NEAR BAY  \n",
      "24           NEAR BAY  \n",
      "25           NEAR BAY  \n",
      "26           NEAR BAY  \n",
      "27           NEAR BAY  \n",
      "28           NEAR BAY  \n",
      "29           NEAR BAY  \n",
      "...               ...  \n",
      "20610          INLAND  \n",
      "20611          INLAND  \n",
      "20612          INLAND  \n",
      "20613          INLAND  \n",
      "20614          INLAND  \n",
      "20615          INLAND  \n",
      "20616          INLAND  \n",
      "20617          INLAND  \n",
      "20618          INLAND  \n",
      "20619          INLAND  \n",
      "20620          INLAND  \n",
      "20621          INLAND  \n",
      "20622          INLAND  \n",
      "20623          INLAND  \n",
      "20624          INLAND  \n",
      "20625          INLAND  \n",
      "20626          INLAND  \n",
      "20627          INLAND  \n",
      "20628          INLAND  \n",
      "20629          INLAND  \n",
      "20630          INLAND  \n",
      "20631          INLAND  \n",
      "20632          INLAND  \n",
      "20633          INLAND  \n",
      "20634          INLAND  \n",
      "20635          INLAND  \n",
      "20636          INLAND  \n",
      "20637          INLAND  \n",
      "20638          INLAND  \n",
      "20639          INLAND  \n",
      "\n",
      "[20640 rows x 10 columns]\n"
     ]
    }
   ],
   "source": [
    "d=pd.read_csv(\"housing.csv\")\n",
    "print(data)"
   ]
  },
  {
   "cell_type": "code",
   "execution_count": 5,
   "metadata": {},
   "outputs": [
    {
     "data": {
      "text/html": [
       "<div>\n",
       "<style scoped>\n",
       "    .dataframe tbody tr th:only-of-type {\n",
       "        vertical-align: middle;\n",
       "    }\n",
       "\n",
       "    .dataframe tbody tr th {\n",
       "        vertical-align: top;\n",
       "    }\n",
       "\n",
       "    .dataframe thead th {\n",
       "        text-align: right;\n",
       "    }\n",
       "</style>\n",
       "<table border=\"1\" class=\"dataframe\">\n",
       "  <thead>\n",
       "    <tr style=\"text-align: right;\">\n",
       "      <th></th>\n",
       "      <th>longitude</th>\n",
       "      <th>latitude</th>\n",
       "      <th>housing_median_age</th>\n",
       "      <th>total_rooms</th>\n",
       "      <th>total_bedrooms</th>\n",
       "      <th>population</th>\n",
       "      <th>households</th>\n",
       "      <th>median_income</th>\n",
       "      <th>median_house_value</th>\n",
       "      <th>ocean_proximity</th>\n",
       "    </tr>\n",
       "  </thead>\n",
       "  <tbody>\n",
       "    <tr>\n",
       "      <th>0</th>\n",
       "      <td>-122.23</td>\n",
       "      <td>37.88</td>\n",
       "      <td>41.0</td>\n",
       "      <td>880.0</td>\n",
       "      <td>129.0</td>\n",
       "      <td>322.0</td>\n",
       "      <td>126.0</td>\n",
       "      <td>8.3252</td>\n",
       "      <td>452600.0</td>\n",
       "      <td>NEAR BAY</td>\n",
       "    </tr>\n",
       "    <tr>\n",
       "      <th>1</th>\n",
       "      <td>-122.22</td>\n",
       "      <td>37.86</td>\n",
       "      <td>21.0</td>\n",
       "      <td>7099.0</td>\n",
       "      <td>1106.0</td>\n",
       "      <td>2401.0</td>\n",
       "      <td>1138.0</td>\n",
       "      <td>8.3014</td>\n",
       "      <td>358500.0</td>\n",
       "      <td>NEAR BAY</td>\n",
       "    </tr>\n",
       "    <tr>\n",
       "      <th>2</th>\n",
       "      <td>-122.24</td>\n",
       "      <td>37.85</td>\n",
       "      <td>52.0</td>\n",
       "      <td>1467.0</td>\n",
       "      <td>190.0</td>\n",
       "      <td>496.0</td>\n",
       "      <td>177.0</td>\n",
       "      <td>7.2574</td>\n",
       "      <td>352100.0</td>\n",
       "      <td>NEAR BAY</td>\n",
       "    </tr>\n",
       "    <tr>\n",
       "      <th>3</th>\n",
       "      <td>-122.25</td>\n",
       "      <td>37.85</td>\n",
       "      <td>52.0</td>\n",
       "      <td>1274.0</td>\n",
       "      <td>235.0</td>\n",
       "      <td>558.0</td>\n",
       "      <td>219.0</td>\n",
       "      <td>5.6431</td>\n",
       "      <td>341300.0</td>\n",
       "      <td>NEAR BAY</td>\n",
       "    </tr>\n",
       "    <tr>\n",
       "      <th>4</th>\n",
       "      <td>-122.25</td>\n",
       "      <td>37.85</td>\n",
       "      <td>52.0</td>\n",
       "      <td>1627.0</td>\n",
       "      <td>280.0</td>\n",
       "      <td>565.0</td>\n",
       "      <td>259.0</td>\n",
       "      <td>3.8462</td>\n",
       "      <td>342200.0</td>\n",
       "      <td>NEAR BAY</td>\n",
       "    </tr>\n",
       "  </tbody>\n",
       "</table>\n",
       "</div>"
      ],
      "text/plain": [
       "   longitude  latitude  housing_median_age  total_rooms  total_bedrooms  \\\n",
       "0    -122.23     37.88                41.0        880.0           129.0   \n",
       "1    -122.22     37.86                21.0       7099.0          1106.0   \n",
       "2    -122.24     37.85                52.0       1467.0           190.0   \n",
       "3    -122.25     37.85                52.0       1274.0           235.0   \n",
       "4    -122.25     37.85                52.0       1627.0           280.0   \n",
       "\n",
       "   population  households  median_income  median_house_value ocean_proximity  \n",
       "0       322.0       126.0         8.3252            452600.0        NEAR BAY  \n",
       "1      2401.0      1138.0         8.3014            358500.0        NEAR BAY  \n",
       "2       496.0       177.0         7.2574            352100.0        NEAR BAY  \n",
       "3       558.0       219.0         5.6431            341300.0        NEAR BAY  \n",
       "4       565.0       259.0         3.8462            342200.0        NEAR BAY  "
      ]
     },
     "execution_count": 5,
     "metadata": {},
     "output_type": "execute_result"
    }
   ],
   "source": [
    "#displays first five rows of the data\n",
    "d.head()"
   ]
  },
  {
   "cell_type": "code",
   "execution_count": 6,
   "metadata": {},
   "outputs": [
    {
     "name": "stdout",
     "output_type": "stream",
     "text": [
      "total no of samples 206400\n"
     ]
    }
   ],
   "source": [
    "print(\"total no of samples\",d.size)"
   ]
  },
  {
   "cell_type": "code",
   "execution_count": 7,
   "metadata": {},
   "outputs": [
    {
     "name": "stdout",
     "output_type": "stream",
     "text": [
      "the total noof null values\n"
     ]
    },
    {
     "data": {
      "text/plain": [
       "longitude               0\n",
       "latitude                0\n",
       "housing_median_age      0\n",
       "total_rooms             0\n",
       "total_bedrooms        207\n",
       "population              0\n",
       "households              0\n",
       "median_income           0\n",
       "median_house_value      0\n",
       "ocean_proximity         0\n",
       "dtype: int64"
      ]
     },
     "execution_count": 7,
     "metadata": {},
     "output_type": "execute_result"
    }
   ],
   "source": [
    "#checking for the null values\n",
    "print(\"the total noof null values\")\n",
    "d.isnull().sum()"
   ]
  },
  {
   "cell_type": "code",
   "execution_count": 8,
   "metadata": {},
   "outputs": [
    {
     "data": {
      "text/html": [
       "<div>\n",
       "<style scoped>\n",
       "    .dataframe tbody tr th:only-of-type {\n",
       "        vertical-align: middle;\n",
       "    }\n",
       "\n",
       "    .dataframe tbody tr th {\n",
       "        vertical-align: top;\n",
       "    }\n",
       "\n",
       "    .dataframe thead th {\n",
       "        text-align: right;\n",
       "    }\n",
       "</style>\n",
       "<table border=\"1\" class=\"dataframe\">\n",
       "  <thead>\n",
       "    <tr style=\"text-align: right;\">\n",
       "      <th></th>\n",
       "      <th>longitude</th>\n",
       "      <th>latitude</th>\n",
       "      <th>housing_median_age</th>\n",
       "      <th>total_rooms</th>\n",
       "      <th>total_bedrooms</th>\n",
       "      <th>population</th>\n",
       "      <th>households</th>\n",
       "      <th>median_income</th>\n",
       "      <th>median_house_value</th>\n",
       "    </tr>\n",
       "  </thead>\n",
       "  <tbody>\n",
       "    <tr>\n",
       "      <th>count</th>\n",
       "      <td>20640.000000</td>\n",
       "      <td>20640.000000</td>\n",
       "      <td>20640.000000</td>\n",
       "      <td>20640.000000</td>\n",
       "      <td>20433.000000</td>\n",
       "      <td>20640.000000</td>\n",
       "      <td>20640.000000</td>\n",
       "      <td>20640.000000</td>\n",
       "      <td>20640.000000</td>\n",
       "    </tr>\n",
       "    <tr>\n",
       "      <th>mean</th>\n",
       "      <td>-119.569704</td>\n",
       "      <td>35.631861</td>\n",
       "      <td>28.639486</td>\n",
       "      <td>2635.763081</td>\n",
       "      <td>537.870553</td>\n",
       "      <td>1425.476744</td>\n",
       "      <td>499.539680</td>\n",
       "      <td>3.870671</td>\n",
       "      <td>206855.816909</td>\n",
       "    </tr>\n",
       "    <tr>\n",
       "      <th>std</th>\n",
       "      <td>2.003532</td>\n",
       "      <td>2.135952</td>\n",
       "      <td>12.585558</td>\n",
       "      <td>2181.615252</td>\n",
       "      <td>421.385070</td>\n",
       "      <td>1132.462122</td>\n",
       "      <td>382.329753</td>\n",
       "      <td>1.899822</td>\n",
       "      <td>115395.615874</td>\n",
       "    </tr>\n",
       "    <tr>\n",
       "      <th>min</th>\n",
       "      <td>-124.350000</td>\n",
       "      <td>32.540000</td>\n",
       "      <td>1.000000</td>\n",
       "      <td>2.000000</td>\n",
       "      <td>1.000000</td>\n",
       "      <td>3.000000</td>\n",
       "      <td>1.000000</td>\n",
       "      <td>0.499900</td>\n",
       "      <td>14999.000000</td>\n",
       "    </tr>\n",
       "    <tr>\n",
       "      <th>25%</th>\n",
       "      <td>-121.800000</td>\n",
       "      <td>33.930000</td>\n",
       "      <td>18.000000</td>\n",
       "      <td>1447.750000</td>\n",
       "      <td>296.000000</td>\n",
       "      <td>787.000000</td>\n",
       "      <td>280.000000</td>\n",
       "      <td>2.563400</td>\n",
       "      <td>119600.000000</td>\n",
       "    </tr>\n",
       "    <tr>\n",
       "      <th>50%</th>\n",
       "      <td>-118.490000</td>\n",
       "      <td>34.260000</td>\n",
       "      <td>29.000000</td>\n",
       "      <td>2127.000000</td>\n",
       "      <td>435.000000</td>\n",
       "      <td>1166.000000</td>\n",
       "      <td>409.000000</td>\n",
       "      <td>3.534800</td>\n",
       "      <td>179700.000000</td>\n",
       "    </tr>\n",
       "    <tr>\n",
       "      <th>75%</th>\n",
       "      <td>-118.010000</td>\n",
       "      <td>37.710000</td>\n",
       "      <td>37.000000</td>\n",
       "      <td>3148.000000</td>\n",
       "      <td>647.000000</td>\n",
       "      <td>1725.000000</td>\n",
       "      <td>605.000000</td>\n",
       "      <td>4.743250</td>\n",
       "      <td>264725.000000</td>\n",
       "    </tr>\n",
       "    <tr>\n",
       "      <th>max</th>\n",
       "      <td>-114.310000</td>\n",
       "      <td>41.950000</td>\n",
       "      <td>52.000000</td>\n",
       "      <td>39320.000000</td>\n",
       "      <td>6445.000000</td>\n",
       "      <td>35682.000000</td>\n",
       "      <td>6082.000000</td>\n",
       "      <td>15.000100</td>\n",
       "      <td>500001.000000</td>\n",
       "    </tr>\n",
       "  </tbody>\n",
       "</table>\n",
       "</div>"
      ],
      "text/plain": [
       "          longitude      latitude  housing_median_age   total_rooms  \\\n",
       "count  20640.000000  20640.000000        20640.000000  20640.000000   \n",
       "mean    -119.569704     35.631861           28.639486   2635.763081   \n",
       "std        2.003532      2.135952           12.585558   2181.615252   \n",
       "min     -124.350000     32.540000            1.000000      2.000000   \n",
       "25%     -121.800000     33.930000           18.000000   1447.750000   \n",
       "50%     -118.490000     34.260000           29.000000   2127.000000   \n",
       "75%     -118.010000     37.710000           37.000000   3148.000000   \n",
       "max     -114.310000     41.950000           52.000000  39320.000000   \n",
       "\n",
       "       total_bedrooms    population    households  median_income  \\\n",
       "count    20433.000000  20640.000000  20640.000000   20640.000000   \n",
       "mean       537.870553   1425.476744    499.539680       3.870671   \n",
       "std        421.385070   1132.462122    382.329753       1.899822   \n",
       "min          1.000000      3.000000      1.000000       0.499900   \n",
       "25%        296.000000    787.000000    280.000000       2.563400   \n",
       "50%        435.000000   1166.000000    409.000000       3.534800   \n",
       "75%        647.000000   1725.000000    605.000000       4.743250   \n",
       "max       6445.000000  35682.000000   6082.000000      15.000100   \n",
       "\n",
       "       median_house_value  \n",
       "count        20640.000000  \n",
       "mean        206855.816909  \n",
       "std         115395.615874  \n",
       "min          14999.000000  \n",
       "25%         119600.000000  \n",
       "50%         179700.000000  \n",
       "75%         264725.000000  \n",
       "max         500001.000000  "
      ]
     },
     "execution_count": 8,
     "metadata": {},
     "output_type": "execute_result"
    }
   ],
   "source": [
    "\n",
    "d.describe()"
   ]
  },
  {
   "cell_type": "code",
   "execution_count": 9,
   "metadata": {},
   "outputs": [
    {
     "data": {
      "text/plain": [
       "537.8705525375618"
      ]
     },
     "execution_count": 9,
     "metadata": {},
     "output_type": "execute_result"
    }
   ],
   "source": [
    "#calculating mean \n",
    "np.mean(d['total_bedrooms'])"
   ]
  },
  {
   "cell_type": "code",
   "execution_count": 10,
   "metadata": {},
   "outputs": [],
   "source": [
    "#filling missing values with the mean\n",
    "d['total_bedrooms'] =d['total_bedrooms'].fillna(np.mean(d['total_bedrooms']))"
   ]
  },
  {
   "cell_type": "code",
   "execution_count": 11,
   "metadata": {},
   "outputs": [
    {
     "name": "stdout",
     "output_type": "stream",
     "text": [
      "the total noof null values\n"
     ]
    },
    {
     "data": {
      "text/plain": [
       "longitude             0\n",
       "latitude              0\n",
       "housing_median_age    0\n",
       "total_rooms           0\n",
       "total_bedrooms        0\n",
       "population            0\n",
       "households            0\n",
       "median_income         0\n",
       "median_house_value    0\n",
       "ocean_proximity       0\n",
       "dtype: int64"
      ]
     },
     "execution_count": 11,
     "metadata": {},
     "output_type": "execute_result"
    }
   ],
   "source": [
    "#checking for null values\n",
    "print(\"the total noof null values\")\n",
    "d.isnull().sum()"
   ]
  },
  {
   "cell_type": "code",
   "execution_count": 12,
   "metadata": {},
   "outputs": [
    {
     "data": {
      "text/html": [
       "<div>\n",
       "<style scoped>\n",
       "    .dataframe tbody tr th:only-of-type {\n",
       "        vertical-align: middle;\n",
       "    }\n",
       "\n",
       "    .dataframe tbody tr th {\n",
       "        vertical-align: top;\n",
       "    }\n",
       "\n",
       "    .dataframe thead th {\n",
       "        text-align: right;\n",
       "    }\n",
       "</style>\n",
       "<table border=\"1\" class=\"dataframe\">\n",
       "  <thead>\n",
       "    <tr style=\"text-align: right;\">\n",
       "      <th></th>\n",
       "      <th>longitude</th>\n",
       "      <th>latitude</th>\n",
       "      <th>housing_median_age</th>\n",
       "      <th>total_rooms</th>\n",
       "      <th>total_bedrooms</th>\n",
       "      <th>population</th>\n",
       "      <th>households</th>\n",
       "      <th>median_income</th>\n",
       "      <th>median_house_value</th>\n",
       "    </tr>\n",
       "  </thead>\n",
       "  <tbody>\n",
       "    <tr>\n",
       "      <th>count</th>\n",
       "      <td>20640.000000</td>\n",
       "      <td>20640.000000</td>\n",
       "      <td>20640.000000</td>\n",
       "      <td>20640.000000</td>\n",
       "      <td>20640.000000</td>\n",
       "      <td>20640.000000</td>\n",
       "      <td>20640.000000</td>\n",
       "      <td>20640.000000</td>\n",
       "      <td>20640.000000</td>\n",
       "    </tr>\n",
       "    <tr>\n",
       "      <th>mean</th>\n",
       "      <td>-119.569704</td>\n",
       "      <td>35.631861</td>\n",
       "      <td>28.639486</td>\n",
       "      <td>2635.763081</td>\n",
       "      <td>537.870553</td>\n",
       "      <td>1425.476744</td>\n",
       "      <td>499.539680</td>\n",
       "      <td>3.870671</td>\n",
       "      <td>206855.816909</td>\n",
       "    </tr>\n",
       "    <tr>\n",
       "      <th>std</th>\n",
       "      <td>2.003532</td>\n",
       "      <td>2.135952</td>\n",
       "      <td>12.585558</td>\n",
       "      <td>2181.615252</td>\n",
       "      <td>419.266592</td>\n",
       "      <td>1132.462122</td>\n",
       "      <td>382.329753</td>\n",
       "      <td>1.899822</td>\n",
       "      <td>115395.615874</td>\n",
       "    </tr>\n",
       "    <tr>\n",
       "      <th>min</th>\n",
       "      <td>-124.350000</td>\n",
       "      <td>32.540000</td>\n",
       "      <td>1.000000</td>\n",
       "      <td>2.000000</td>\n",
       "      <td>1.000000</td>\n",
       "      <td>3.000000</td>\n",
       "      <td>1.000000</td>\n",
       "      <td>0.499900</td>\n",
       "      <td>14999.000000</td>\n",
       "    </tr>\n",
       "    <tr>\n",
       "      <th>25%</th>\n",
       "      <td>-121.800000</td>\n",
       "      <td>33.930000</td>\n",
       "      <td>18.000000</td>\n",
       "      <td>1447.750000</td>\n",
       "      <td>297.000000</td>\n",
       "      <td>787.000000</td>\n",
       "      <td>280.000000</td>\n",
       "      <td>2.563400</td>\n",
       "      <td>119600.000000</td>\n",
       "    </tr>\n",
       "    <tr>\n",
       "      <th>50%</th>\n",
       "      <td>-118.490000</td>\n",
       "      <td>34.260000</td>\n",
       "      <td>29.000000</td>\n",
       "      <td>2127.000000</td>\n",
       "      <td>438.000000</td>\n",
       "      <td>1166.000000</td>\n",
       "      <td>409.000000</td>\n",
       "      <td>3.534800</td>\n",
       "      <td>179700.000000</td>\n",
       "    </tr>\n",
       "    <tr>\n",
       "      <th>75%</th>\n",
       "      <td>-118.010000</td>\n",
       "      <td>37.710000</td>\n",
       "      <td>37.000000</td>\n",
       "      <td>3148.000000</td>\n",
       "      <td>643.250000</td>\n",
       "      <td>1725.000000</td>\n",
       "      <td>605.000000</td>\n",
       "      <td>4.743250</td>\n",
       "      <td>264725.000000</td>\n",
       "    </tr>\n",
       "    <tr>\n",
       "      <th>max</th>\n",
       "      <td>-114.310000</td>\n",
       "      <td>41.950000</td>\n",
       "      <td>52.000000</td>\n",
       "      <td>39320.000000</td>\n",
       "      <td>6445.000000</td>\n",
       "      <td>35682.000000</td>\n",
       "      <td>6082.000000</td>\n",
       "      <td>15.000100</td>\n",
       "      <td>500001.000000</td>\n",
       "    </tr>\n",
       "  </tbody>\n",
       "</table>\n",
       "</div>"
      ],
      "text/plain": [
       "          longitude      latitude  housing_median_age   total_rooms  \\\n",
       "count  20640.000000  20640.000000        20640.000000  20640.000000   \n",
       "mean    -119.569704     35.631861           28.639486   2635.763081   \n",
       "std        2.003532      2.135952           12.585558   2181.615252   \n",
       "min     -124.350000     32.540000            1.000000      2.000000   \n",
       "25%     -121.800000     33.930000           18.000000   1447.750000   \n",
       "50%     -118.490000     34.260000           29.000000   2127.000000   \n",
       "75%     -118.010000     37.710000           37.000000   3148.000000   \n",
       "max     -114.310000     41.950000           52.000000  39320.000000   \n",
       "\n",
       "       total_bedrooms    population    households  median_income  \\\n",
       "count    20640.000000  20640.000000  20640.000000   20640.000000   \n",
       "mean       537.870553   1425.476744    499.539680       3.870671   \n",
       "std        419.266592   1132.462122    382.329753       1.899822   \n",
       "min          1.000000      3.000000      1.000000       0.499900   \n",
       "25%        297.000000    787.000000    280.000000       2.563400   \n",
       "50%        438.000000   1166.000000    409.000000       3.534800   \n",
       "75%        643.250000   1725.000000    605.000000       4.743250   \n",
       "max       6445.000000  35682.000000   6082.000000      15.000100   \n",
       "\n",
       "       median_house_value  \n",
       "count        20640.000000  \n",
       "mean        206855.816909  \n",
       "std         115395.615874  \n",
       "min          14999.000000  \n",
       "25%         119600.000000  \n",
       "50%         179700.000000  \n",
       "75%         264725.000000  \n",
       "max         500001.000000  "
      ]
     },
     "execution_count": 12,
     "metadata": {},
     "output_type": "execute_result"
    }
   ],
   "source": [
    "#describing of the data\n",
    "d.describe()"
   ]
  },
  {
   "cell_type": "code",
   "execution_count": 13,
   "metadata": {},
   "outputs": [
    {
     "data": {
      "text/plain": [
       "<bound method Series.unique of 0        NEAR BAY\n",
       "1        NEAR BAY\n",
       "2        NEAR BAY\n",
       "3        NEAR BAY\n",
       "4        NEAR BAY\n",
       "5        NEAR BAY\n",
       "6        NEAR BAY\n",
       "7        NEAR BAY\n",
       "8        NEAR BAY\n",
       "9        NEAR BAY\n",
       "10       NEAR BAY\n",
       "11       NEAR BAY\n",
       "12       NEAR BAY\n",
       "13       NEAR BAY\n",
       "14       NEAR BAY\n",
       "15       NEAR BAY\n",
       "16       NEAR BAY\n",
       "17       NEAR BAY\n",
       "18       NEAR BAY\n",
       "19       NEAR BAY\n",
       "20       NEAR BAY\n",
       "21       NEAR BAY\n",
       "22       NEAR BAY\n",
       "23       NEAR BAY\n",
       "24       NEAR BAY\n",
       "25       NEAR BAY\n",
       "26       NEAR BAY\n",
       "27       NEAR BAY\n",
       "28       NEAR BAY\n",
       "29       NEAR BAY\n",
       "           ...   \n",
       "20610      INLAND\n",
       "20611      INLAND\n",
       "20612      INLAND\n",
       "20613      INLAND\n",
       "20614      INLAND\n",
       "20615      INLAND\n",
       "20616      INLAND\n",
       "20617      INLAND\n",
       "20618      INLAND\n",
       "20619      INLAND\n",
       "20620      INLAND\n",
       "20621      INLAND\n",
       "20622      INLAND\n",
       "20623      INLAND\n",
       "20624      INLAND\n",
       "20625      INLAND\n",
       "20626      INLAND\n",
       "20627      INLAND\n",
       "20628      INLAND\n",
       "20629      INLAND\n",
       "20630      INLAND\n",
       "20631      INLAND\n",
       "20632      INLAND\n",
       "20633      INLAND\n",
       "20634      INLAND\n",
       "20635      INLAND\n",
       "20636      INLAND\n",
       "20637      INLAND\n",
       "20638      INLAND\n",
       "20639      INLAND\n",
       "Name: ocean_proximity, Length: 20640, dtype: object>"
      ]
     },
     "execution_count": 13,
     "metadata": {},
     "output_type": "execute_result"
    }
   ],
   "source": [
    "#finding unique values \n",
    "d['ocean_proximity'].unique"
   ]
  },
  {
   "cell_type": "code",
   "execution_count": 14,
   "metadata": {},
   "outputs": [
    {
     "data": {
      "text/plain": [
       "<1H OCEAN     9136\n",
       "INLAND        6551\n",
       "NEAR OCEAN    2658\n",
       "NEAR BAY      2290\n",
       "ISLAND           5\n",
       "Name: ocean_proximity, dtype: int64"
      ]
     },
     "execution_count": 14,
     "metadata": {},
     "output_type": "execute_result"
    }
   ],
   "source": [
    "d['ocean_proximity'].value_counts()"
   ]
  },
  {
   "cell_type": "code",
   "execution_count": 15,
   "metadata": {},
   "outputs": [],
   "source": [
    "#converting string values to numerical values using lable encoding\n",
    "le=LabelEncoder()\n",
    "d['ocean_proximity'] = le.fit_transform(d['ocean_proximity'])"
   ]
  },
  {
   "cell_type": "code",
   "execution_count": 16,
   "metadata": {},
   "outputs": [
    {
     "data": {
      "text/html": [
       "<div>\n",
       "<style scoped>\n",
       "    .dataframe tbody tr th:only-of-type {\n",
       "        vertical-align: middle;\n",
       "    }\n",
       "\n",
       "    .dataframe tbody tr th {\n",
       "        vertical-align: top;\n",
       "    }\n",
       "\n",
       "    .dataframe thead th {\n",
       "        text-align: right;\n",
       "    }\n",
       "</style>\n",
       "<table border=\"1\" class=\"dataframe\">\n",
       "  <thead>\n",
       "    <tr style=\"text-align: right;\">\n",
       "      <th></th>\n",
       "      <th>0</th>\n",
       "      <th>1</th>\n",
       "      <th>2</th>\n",
       "      <th>3</th>\n",
       "      <th>4</th>\n",
       "    </tr>\n",
       "  </thead>\n",
       "  <tbody>\n",
       "    <tr>\n",
       "      <th>0</th>\n",
       "      <td>0</td>\n",
       "      <td>0</td>\n",
       "      <td>0</td>\n",
       "      <td>1</td>\n",
       "      <td>0</td>\n",
       "    </tr>\n",
       "    <tr>\n",
       "      <th>1</th>\n",
       "      <td>0</td>\n",
       "      <td>0</td>\n",
       "      <td>0</td>\n",
       "      <td>1</td>\n",
       "      <td>0</td>\n",
       "    </tr>\n",
       "    <tr>\n",
       "      <th>2</th>\n",
       "      <td>0</td>\n",
       "      <td>0</td>\n",
       "      <td>0</td>\n",
       "      <td>1</td>\n",
       "      <td>0</td>\n",
       "    </tr>\n",
       "    <tr>\n",
       "      <th>3</th>\n",
       "      <td>0</td>\n",
       "      <td>0</td>\n",
       "      <td>0</td>\n",
       "      <td>1</td>\n",
       "      <td>0</td>\n",
       "    </tr>\n",
       "    <tr>\n",
       "      <th>4</th>\n",
       "      <td>0</td>\n",
       "      <td>0</td>\n",
       "      <td>0</td>\n",
       "      <td>1</td>\n",
       "      <td>0</td>\n",
       "    </tr>\n",
       "  </tbody>\n",
       "</table>\n",
       "</div>"
      ],
      "text/plain": [
       "   0  1  2  3  4\n",
       "0  0  0  0  1  0\n",
       "1  0  0  0  1  0\n",
       "2  0  0  0  1  0\n",
       "3  0  0  0  1  0\n",
       "4  0  0  0  1  0"
      ]
     },
     "execution_count": 16,
     "metadata": {},
     "output_type": "execute_result"
    }
   ],
   "source": [
    "\n",
    "dum=pd.get_dummies(d['ocean_proximity'])\n",
    "d=pd.concat([d,dum],axis=1)\n",
    "dum.head()"
   ]
  },
  {
   "cell_type": "code",
   "execution_count": 17,
   "metadata": {},
   "outputs": [
    {
     "data": {
      "text/html": [
       "<div>\n",
       "<style scoped>\n",
       "    .dataframe tbody tr th:only-of-type {\n",
       "        vertical-align: middle;\n",
       "    }\n",
       "\n",
       "    .dataframe tbody tr th {\n",
       "        vertical-align: top;\n",
       "    }\n",
       "\n",
       "    .dataframe thead th {\n",
       "        text-align: right;\n",
       "    }\n",
       "</style>\n",
       "<table border=\"1\" class=\"dataframe\">\n",
       "  <thead>\n",
       "    <tr style=\"text-align: right;\">\n",
       "      <th></th>\n",
       "      <th>longitude</th>\n",
       "      <th>latitude</th>\n",
       "      <th>housing_median_age</th>\n",
       "      <th>total_rooms</th>\n",
       "      <th>total_bedrooms</th>\n",
       "      <th>population</th>\n",
       "      <th>households</th>\n",
       "      <th>median_income</th>\n",
       "      <th>median_house_value</th>\n",
       "      <th>ocean_proximity</th>\n",
       "      <th>0</th>\n",
       "      <th>1</th>\n",
       "      <th>2</th>\n",
       "      <th>3</th>\n",
       "      <th>4</th>\n",
       "    </tr>\n",
       "  </thead>\n",
       "  <tbody>\n",
       "    <tr>\n",
       "      <th>0</th>\n",
       "      <td>-122.23</td>\n",
       "      <td>37.88</td>\n",
       "      <td>41.0</td>\n",
       "      <td>880.0</td>\n",
       "      <td>129.0</td>\n",
       "      <td>322.0</td>\n",
       "      <td>126.0</td>\n",
       "      <td>8.3252</td>\n",
       "      <td>452600.0</td>\n",
       "      <td>3</td>\n",
       "      <td>0</td>\n",
       "      <td>0</td>\n",
       "      <td>0</td>\n",
       "      <td>1</td>\n",
       "      <td>0</td>\n",
       "    </tr>\n",
       "    <tr>\n",
       "      <th>1</th>\n",
       "      <td>-122.22</td>\n",
       "      <td>37.86</td>\n",
       "      <td>21.0</td>\n",
       "      <td>7099.0</td>\n",
       "      <td>1106.0</td>\n",
       "      <td>2401.0</td>\n",
       "      <td>1138.0</td>\n",
       "      <td>8.3014</td>\n",
       "      <td>358500.0</td>\n",
       "      <td>3</td>\n",
       "      <td>0</td>\n",
       "      <td>0</td>\n",
       "      <td>0</td>\n",
       "      <td>1</td>\n",
       "      <td>0</td>\n",
       "    </tr>\n",
       "    <tr>\n",
       "      <th>2</th>\n",
       "      <td>-122.24</td>\n",
       "      <td>37.85</td>\n",
       "      <td>52.0</td>\n",
       "      <td>1467.0</td>\n",
       "      <td>190.0</td>\n",
       "      <td>496.0</td>\n",
       "      <td>177.0</td>\n",
       "      <td>7.2574</td>\n",
       "      <td>352100.0</td>\n",
       "      <td>3</td>\n",
       "      <td>0</td>\n",
       "      <td>0</td>\n",
       "      <td>0</td>\n",
       "      <td>1</td>\n",
       "      <td>0</td>\n",
       "    </tr>\n",
       "    <tr>\n",
       "      <th>3</th>\n",
       "      <td>-122.25</td>\n",
       "      <td>37.85</td>\n",
       "      <td>52.0</td>\n",
       "      <td>1274.0</td>\n",
       "      <td>235.0</td>\n",
       "      <td>558.0</td>\n",
       "      <td>219.0</td>\n",
       "      <td>5.6431</td>\n",
       "      <td>341300.0</td>\n",
       "      <td>3</td>\n",
       "      <td>0</td>\n",
       "      <td>0</td>\n",
       "      <td>0</td>\n",
       "      <td>1</td>\n",
       "      <td>0</td>\n",
       "    </tr>\n",
       "    <tr>\n",
       "      <th>4</th>\n",
       "      <td>-122.25</td>\n",
       "      <td>37.85</td>\n",
       "      <td>52.0</td>\n",
       "      <td>1627.0</td>\n",
       "      <td>280.0</td>\n",
       "      <td>565.0</td>\n",
       "      <td>259.0</td>\n",
       "      <td>3.8462</td>\n",
       "      <td>342200.0</td>\n",
       "      <td>3</td>\n",
       "      <td>0</td>\n",
       "      <td>0</td>\n",
       "      <td>0</td>\n",
       "      <td>1</td>\n",
       "      <td>0</td>\n",
       "    </tr>\n",
       "  </tbody>\n",
       "</table>\n",
       "</div>"
      ],
      "text/plain": [
       "   longitude  latitude  housing_median_age  total_rooms  total_bedrooms  \\\n",
       "0    -122.23     37.88                41.0        880.0           129.0   \n",
       "1    -122.22     37.86                21.0       7099.0          1106.0   \n",
       "2    -122.24     37.85                52.0       1467.0           190.0   \n",
       "3    -122.25     37.85                52.0       1274.0           235.0   \n",
       "4    -122.25     37.85                52.0       1627.0           280.0   \n",
       "\n",
       "   population  households  median_income  median_house_value  ocean_proximity  \\\n",
       "0       322.0       126.0         8.3252            452600.0                3   \n",
       "1      2401.0      1138.0         8.3014            358500.0                3   \n",
       "2       496.0       177.0         7.2574            352100.0                3   \n",
       "3       558.0       219.0         5.6431            341300.0                3   \n",
       "4       565.0       259.0         3.8462            342200.0                3   \n",
       "\n",
       "   0  1  2  3  4  \n",
       "0  0  0  0  1  0  \n",
       "1  0  0  0  1  0  \n",
       "2  0  0  0  1  0  \n",
       "3  0  0  0  1  0  \n",
       "4  0  0  0  1  0  "
      ]
     },
     "execution_count": 17,
     "metadata": {},
     "output_type": "execute_result"
    }
   ],
   "source": [
    "#standardizing  data\n",
    "d['housing_median_age']=d.housing_median_age.astype(float)\n",
    "d['total_rooms']=d.total_rooms.astype(float)\n",
    "d['population']=d.population.astype(float)\n",
    "d['households']=d.households.astype(float)\n",
    "d['median_house_value']=d.median_house_value.astype(float)\n",
    "d.head()"
   ]
  },
  {
   "cell_type": "code",
   "execution_count": 18,
   "metadata": {},
   "outputs": [
    {
     "name": "stdout",
     "output_type": "stream",
     "text": [
      "       longitude  latitude  housing_median_age  total_rooms  total_bedrooms  \\\n",
      "0        -122.23     37.88                41.0        880.0           129.0   \n",
      "1        -122.22     37.86                21.0       7099.0          1106.0   \n",
      "2        -122.24     37.85                52.0       1467.0           190.0   \n",
      "3        -122.25     37.85                52.0       1274.0           235.0   \n",
      "4        -122.25     37.85                52.0       1627.0           280.0   \n",
      "5        -122.25     37.85                52.0        919.0           213.0   \n",
      "6        -122.25     37.84                52.0       2535.0           489.0   \n",
      "7        -122.25     37.84                52.0       3104.0           687.0   \n",
      "8        -122.26     37.84                42.0       2555.0           665.0   \n",
      "9        -122.25     37.84                52.0       3549.0           707.0   \n",
      "10       -122.26     37.85                52.0       2202.0           434.0   \n",
      "11       -122.26     37.85                52.0       3503.0           752.0   \n",
      "12       -122.26     37.85                52.0       2491.0           474.0   \n",
      "13       -122.26     37.84                52.0        696.0           191.0   \n",
      "14       -122.26     37.85                52.0       2643.0           626.0   \n",
      "15       -122.26     37.85                50.0       1120.0           283.0   \n",
      "16       -122.27     37.85                52.0       1966.0           347.0   \n",
      "17       -122.27     37.85                52.0       1228.0           293.0   \n",
      "18       -122.26     37.84                50.0       2239.0           455.0   \n",
      "19       -122.27     37.84                52.0       1503.0           298.0   \n",
      "20       -122.27     37.85                40.0        751.0           184.0   \n",
      "21       -122.27     37.85                42.0       1639.0           367.0   \n",
      "22       -122.27     37.84                52.0       2436.0           541.0   \n",
      "23       -122.27     37.84                52.0       1688.0           337.0   \n",
      "24       -122.27     37.84                52.0       2224.0           437.0   \n",
      "25       -122.28     37.85                41.0        535.0           123.0   \n",
      "26       -122.28     37.85                49.0       1130.0           244.0   \n",
      "27       -122.28     37.85                52.0       1898.0           421.0   \n",
      "28       -122.28     37.84                50.0       2082.0           492.0   \n",
      "29       -122.28     37.84                52.0        729.0           160.0   \n",
      "...          ...       ...                 ...          ...             ...   \n",
      "20610    -121.56     39.10                28.0       2130.0           484.0   \n",
      "20611    -121.55     39.10                27.0       1783.0           441.0   \n",
      "20612    -121.56     39.08                26.0       1377.0           289.0   \n",
      "20613    -121.55     39.09                31.0       1728.0           365.0   \n",
      "20614    -121.54     39.08                26.0       2276.0           460.0   \n",
      "20615    -121.54     39.08                23.0       1076.0           216.0   \n",
      "20616    -121.53     39.08                15.0       1810.0           441.0   \n",
      "20617    -121.53     39.06                20.0        561.0           109.0   \n",
      "20618    -121.55     39.06                25.0       1332.0           247.0   \n",
      "20619    -121.56     39.01                22.0       1891.0           340.0   \n",
      "20620    -121.48     39.05                40.0        198.0            41.0   \n",
      "20621    -121.47     39.01                37.0       1244.0           247.0   \n",
      "20622    -121.44     39.00                20.0        755.0           147.0   \n",
      "20623    -121.37     39.03                32.0       1158.0           244.0   \n",
      "20624    -121.41     39.04                16.0       1698.0           300.0   \n",
      "20625    -121.52     39.12                37.0        102.0            17.0   \n",
      "20626    -121.43     39.18                36.0       1124.0           184.0   \n",
      "20627    -121.32     39.13                 5.0        358.0            65.0   \n",
      "20628    -121.48     39.10                19.0       2043.0           421.0   \n",
      "20629    -121.39     39.12                28.0      10035.0          1856.0   \n",
      "20630    -121.32     39.29                11.0       2640.0           505.0   \n",
      "20631    -121.40     39.33                15.0       2655.0           493.0   \n",
      "20632    -121.45     39.26                15.0       2319.0           416.0   \n",
      "20633    -121.53     39.19                27.0       2080.0           412.0   \n",
      "20634    -121.56     39.27                28.0       2332.0           395.0   \n",
      "20635    -121.09     39.48                25.0       1665.0           374.0   \n",
      "20636    -121.21     39.49                18.0        697.0           150.0   \n",
      "20637    -121.22     39.43                17.0       2254.0           485.0   \n",
      "20638    -121.32     39.43                18.0       1860.0           409.0   \n",
      "20639    -121.24     39.37                16.0       2785.0           616.0   \n",
      "\n",
      "       population  households  median_income  ocean_proximity  0  1  2  3  4  \n",
      "0           322.0       126.0         8.3252                3  0  0  0  1  0  \n",
      "1          2401.0      1138.0         8.3014                3  0  0  0  1  0  \n",
      "2           496.0       177.0         7.2574                3  0  0  0  1  0  \n",
      "3           558.0       219.0         5.6431                3  0  0  0  1  0  \n",
      "4           565.0       259.0         3.8462                3  0  0  0  1  0  \n",
      "5           413.0       193.0         4.0368                3  0  0  0  1  0  \n",
      "6          1094.0       514.0         3.6591                3  0  0  0  1  0  \n",
      "7          1157.0       647.0         3.1200                3  0  0  0  1  0  \n",
      "8          1206.0       595.0         2.0804                3  0  0  0  1  0  \n",
      "9          1551.0       714.0         3.6912                3  0  0  0  1  0  \n",
      "10          910.0       402.0         3.2031                3  0  0  0  1  0  \n",
      "11         1504.0       734.0         3.2705                3  0  0  0  1  0  \n",
      "12         1098.0       468.0         3.0750                3  0  0  0  1  0  \n",
      "13          345.0       174.0         2.6736                3  0  0  0  1  0  \n",
      "14         1212.0       620.0         1.9167                3  0  0  0  1  0  \n",
      "15          697.0       264.0         2.1250                3  0  0  0  1  0  \n",
      "16          793.0       331.0         2.7750                3  0  0  0  1  0  \n",
      "17          648.0       303.0         2.1202                3  0  0  0  1  0  \n",
      "18          990.0       419.0         1.9911                3  0  0  0  1  0  \n",
      "19          690.0       275.0         2.6033                3  0  0  0  1  0  \n",
      "20          409.0       166.0         1.3578                3  0  0  0  1  0  \n",
      "21          929.0       366.0         1.7135                3  0  0  0  1  0  \n",
      "22         1015.0       478.0         1.7250                3  0  0  0  1  0  \n",
      "23          853.0       325.0         2.1806                3  0  0  0  1  0  \n",
      "24         1006.0       422.0         2.6000                3  0  0  0  1  0  \n",
      "25          317.0       119.0         2.4038                3  0  0  0  1  0  \n",
      "26          607.0       239.0         2.4597                3  0  0  0  1  0  \n",
      "27         1102.0       397.0         1.8080                3  0  0  0  1  0  \n",
      "28         1131.0       473.0         1.6424                3  0  0  0  1  0  \n",
      "29          395.0       155.0         1.6875                3  0  0  0  1  0  \n",
      "...           ...         ...            ...              ... .. .. .. .. ..  \n",
      "20610      1195.0       439.0         1.3631                1  0  1  0  0  0  \n",
      "20611      1163.0       409.0         1.2857                1  0  1  0  0  0  \n",
      "20612       761.0       267.0         1.4934                1  0  1  0  0  0  \n",
      "20613      1167.0       384.0         1.4958                1  0  1  0  0  0  \n",
      "20614      1455.0       474.0         2.4695                1  0  1  0  0  0  \n",
      "20615       724.0       197.0         2.3598                1  0  1  0  0  0  \n",
      "20616      1157.0       375.0         2.0469                1  0  1  0  0  0  \n",
      "20617       308.0       114.0         3.3021                1  0  1  0  0  0  \n",
      "20618       726.0       226.0         2.2500                1  0  1  0  0  0  \n",
      "20619      1023.0       296.0         2.7303                1  0  1  0  0  0  \n",
      "20620       151.0        48.0         4.5625                1  0  1  0  0  0  \n",
      "20621       484.0       157.0         2.3661                1  0  1  0  0  0  \n",
      "20622       457.0       157.0         2.4167                1  0  1  0  0  0  \n",
      "20623       598.0       227.0         2.8235                1  0  1  0  0  0  \n",
      "20624       731.0       291.0         3.0739                1  0  1  0  0  0  \n",
      "20625        29.0        14.0         4.1250                1  0  1  0  0  0  \n",
      "20626       504.0       171.0         2.1667                1  0  1  0  0  0  \n",
      "20627       169.0        59.0         3.0000                1  0  1  0  0  0  \n",
      "20628      1018.0       390.0         2.5952                1  0  1  0  0  0  \n",
      "20629      6912.0      1818.0         2.0943                1  0  1  0  0  0  \n",
      "20630      1257.0       445.0         3.5673                1  0  1  0  0  0  \n",
      "20631      1200.0       432.0         3.5179                1  0  1  0  0  0  \n",
      "20632      1047.0       385.0         3.1250                1  0  1  0  0  0  \n",
      "20633      1082.0       382.0         2.5495                1  0  1  0  0  0  \n",
      "20634      1041.0       344.0         3.7125                1  0  1  0  0  0  \n",
      "20635       845.0       330.0         1.5603                1  0  1  0  0  0  \n",
      "20636       356.0       114.0         2.5568                1  0  1  0  0  0  \n",
      "20637      1007.0       433.0         1.7000                1  0  1  0  0  0  \n",
      "20638       741.0       349.0         1.8672                1  0  1  0  0  0  \n",
      "20639      1387.0       530.0         2.3886                1  0  1  0  0  0  \n",
      "\n",
      "[20640 rows x 14 columns]\n"
     ]
    }
   ],
   "source": [
    "#spliting the data \n",
    "X=d.drop('median_house_value', axis=1)\n",
    "y=d.median_house_value\n",
    "print(X)"
   ]
  },
  {
   "cell_type": "code",
   "execution_count": 19,
   "metadata": {},
   "outputs": [
    {
     "name": "stdout",
     "output_type": "stream",
     "text": [
      "0        452600.0\n",
      "1        358500.0\n",
      "2        352100.0\n",
      "3        341300.0\n",
      "4        342200.0\n",
      "5        269700.0\n",
      "6        299200.0\n",
      "7        241400.0\n",
      "8        226700.0\n",
      "9        261100.0\n",
      "10       281500.0\n",
      "11       241800.0\n",
      "12       213500.0\n",
      "13       191300.0\n",
      "14       159200.0\n",
      "15       140000.0\n",
      "16       152500.0\n",
      "17       155500.0\n",
      "18       158700.0\n",
      "19       162900.0\n",
      "20       147500.0\n",
      "21       159800.0\n",
      "22       113900.0\n",
      "23        99700.0\n",
      "24       132600.0\n",
      "25       107500.0\n",
      "26        93800.0\n",
      "27       105500.0\n",
      "28       108900.0\n",
      "29       132000.0\n",
      "           ...   \n",
      "20610     45500.0\n",
      "20611     47000.0\n",
      "20612     48300.0\n",
      "20613     53400.0\n",
      "20614     58000.0\n",
      "20615     57500.0\n",
      "20616     55100.0\n",
      "20617     70800.0\n",
      "20618     63400.0\n",
      "20619     99100.0\n",
      "20620    100000.0\n",
      "20621     77500.0\n",
      "20622     67000.0\n",
      "20623     65500.0\n",
      "20624     87200.0\n",
      "20625     72000.0\n",
      "20626     93800.0\n",
      "20627    162500.0\n",
      "20628     92400.0\n",
      "20629    108300.0\n",
      "20630    112000.0\n",
      "20631    107200.0\n",
      "20632    115600.0\n",
      "20633     98300.0\n",
      "20634    116800.0\n",
      "20635     78100.0\n",
      "20636     77100.0\n",
      "20637     92300.0\n",
      "20638     84700.0\n",
      "20639     89400.0\n",
      "Name: median_house_value, Length: 20640, dtype: float64\n"
     ]
    }
   ],
   "source": [
    "print(y)"
   ]
  },
  {
   "cell_type": "code",
   "execution_count": 20,
   "metadata": {},
   "outputs": [
    {
     "data": {
      "text/plain": [
       "(20640, 14)"
      ]
     },
     "execution_count": 20,
     "metadata": {},
     "output_type": "execute_result"
    }
   ],
   "source": [
    "X.shape"
   ]
  },
  {
   "cell_type": "code",
   "execution_count": 21,
   "metadata": {},
   "outputs": [
    {
     "data": {
      "text/plain": [
       "(20640,)"
      ]
     },
     "execution_count": 21,
     "metadata": {},
     "output_type": "execute_result"
    }
   ],
   "source": [
    "y.shape"
   ]
  },
  {
   "cell_type": "code",
   "execution_count": 56,
   "metadata": {},
   "outputs": [
    {
     "data": {
      "image/png": "[encoded data removed]",
      "text/plain": [
       "<matplotlib.figure.Figure at 0x139a8f70>"
      ]
     },
     "metadata": {},
     "output_type": "display_data"
    }
   ],
   "source": [
    "#describing relation using graph\n",
    "plt.scatter(d.median_income,d.median_house_value, color=\"green\")\n",
    "plt.show()\n"
   ]
  },
  {
   "cell_type": "code",
   "execution_count": 57,
   "metadata": {},
   "outputs": [
    {
     "data": {
      "text/plain": [
       "<matplotlib.axes._subplots.AxesSubplot at 0x13d492b0>"
      ]
     },
     "execution_count": 57,
     "metadata": {},
     "output_type": "execute_result"
    },
    {
     "data": {
      "image/png": "[encoded data removed]",
      "text/plain": [
       "<matplotlib.figure.Figure at 0x135dd0d0>"
      ]
     },
     "metadata": {},
     "output_type": "display_data"
    }
   ],
   "source": [
    "\n",
    "d['median_income'].hist(bins=10, color=\"green\")"
   ]
  },
  {
   "cell_type": "code",
   "execution_count": 58,
   "metadata": {},
   "outputs": [
    {
     "data": {
      "text/plain": [
       "<matplotlib.axes._subplots.AxesSubplot at 0x13fca730>"
      ]
     },
     "execution_count": 58,
     "metadata": {},
     "output_type": "execute_result"
    },
    {
     "data": {
      "image/png": "[encoded data removed]",
      "text/plain": [
       "<matplotlib.figure.Figure at 0x140c9070>"
      ]
     },
     "metadata": {},
     "output_type": "display_data"
    }
   ],
   "source": [
    "d['total_rooms'].hist(bins=10, color=\"green\")"
   ]
  },
  {
   "cell_type": "code",
   "execution_count": 59,
   "metadata": {},
   "outputs": [
    {
     "data": {
      "text/plain": [
       "<matplotlib.axes._subplots.AxesSubplot at 0x13559b10>"
      ]
     },
     "execution_count": 59,
     "metadata": {},
     "output_type": "execute_result"
    },
    {
     "data": {
      "image/png": "[encoded data removed]",
      "text/plain": [
       "<matplotlib.figure.Figure at 0x14104610>"
      ]
     },
     "metadata": {},
     "output_type": "display_data"
    }
   ],
   "source": [
    "d['population'].hist(bins=10, color=\"green\")\n"
   ]
  },
  {
   "cell_type": "code",
   "execution_count": 60,
   "metadata": {},
   "outputs": [
    {
     "data": {
      "image/png": "[encoded data removed]",
      "text/plain": [
       "<matplotlib.figure.Figure at 0x10bbf5f0>"
      ]
     },
     "metadata": {},
     "output_type": "display_data"
    }
   ],
   "source": [
    "d.hist(figsize=(15,10), color = 'red')\n",
    "plt.show()"
   ]
  },
  {
   "cell_type": "code",
   "execution_count": 27,
   "metadata": {},
   "outputs": [
    {
     "name": "stdout",
     "output_type": "stream",
     "text": [
      "(16512, 14)\n",
      "(4128, 14)\n",
      "(16512,)\n",
      "(4128,)\n"
     ]
    }
   ],
   "source": [
    "#spliting the data into test and train \n",
    "X_train, X_test, y_train, y_test = train_test_split (X, y, test_size = 0.2, \n",
    "                                                     random_state = 0)\n",
    "print(X_train.shape)\n",
    "print(X_test.shape)\n",
    "print(y_train.shape)\n",
    "print(y_test.shape)"
   ]
  },
  {
   "cell_type": "code",
   "execution_count": 28,
   "metadata": {},
   "outputs": [
    {
     "name": "stdout",
     "output_type": "stream",
     "text": [
      "68689.20561705154\n"
     ]
    }
   ],
   "source": [
    "#applying linear regression model\n",
    "#finding rmse values \n",
    "from sklearn.linear_model import LinearRegression\n",
    "l = LinearRegression()\n",
    "l.fit(X_train, y_train)\n",
    "predictions = l.predict(X_test)\n",
    "rss=((y_test-predictions)**2).sum()\n",
    "mse=np.mean((y_test-predictions)**2)\n",
    "print(np.sqrt(np.mean((y_test-predictions)**2)))"
   ]
  },
  {
   "cell_type": "code",
   "execution_count": 29,
   "metadata": {},
   "outputs": [
    {
     "data": {
      "text/plain": [
       "DecisionTreeRegressor(criterion='mse', max_depth=10, max_features=None,\n",
       "           max_leaf_nodes=None, min_impurity_decrease=0.0,\n",
       "           min_impurity_split=None, min_samples_leaf=1,\n",
       "           min_samples_split=2, min_weight_fraction_leaf=0.0,\n",
       "           presort=False, random_state=None, splitter='best')"
      ]
     },
     "execution_count": 29,
     "metadata": {},
     "output_type": "execute_result"
    }
   ],
   "source": [
    "\n",
    "#applying decision tree with single parameter\n",
    "#finding rmse values \n",
    "dtree_reg = DecisionTreeRegressor(max_depth=10)\n",
    "dtree_reg.fit(X_train, y_train)"
   ]
  },
  {
   "cell_type": "code",
   "execution_count": 30,
   "metadata": {},
   "outputs": [
    {
     "name": "stdout",
     "output_type": "stream",
     "text": [
      "61869.224539707204\n"
     ]
    }
   ],
   "source": [
    "pred = dtree_reg.predict(X_test)\n",
    "rss=((y_test-pred)**2).sum()\n",
    "mse=np.mean((y_test-pred)**2)\n",
    "print(np.sqrt(np.mean((y_test-pred)**2)))"
   ]
  },
  {
   "cell_type": "code",
   "execution_count": 31,
   "metadata": {},
   "outputs": [
    {
     "name": "stdout",
     "output_type": "stream",
     "text": [
      "66365.72523154631\n"
     ]
    }
   ],
   "source": [
    "#applying decision tree with multilple parameter\n",
    "#finding rmse values \n",
    "dtree_reg = DecisionTreeRegressor(max_depth=20,max_features = 'sqrt',min_samples_leaf = 2,min_samples_split = 3,random_state= 42)\n",
    "dtree_reg.fit(X_train, y_train)\n",
    "pred = dtree_reg.predict(X_test)\n",
    "print(np.sqrt(mean_squared_error(y_test, pred)))"
   ]
  },
  {
   "cell_type": "code",
   "execution_count": 32,
   "metadata": {},
   "outputs": [
    {
     "data": {
      "text/plain": [
       "array([476597.79055238, 369184.47736196, 397082.66179768, ...,\n",
       "        78369.90466044,  90425.15830499,  86572.87191946])"
      ]
     },
     "execution_count": 32,
     "metadata": {},
     "output_type": "execute_result"
    }
   ],
   "source": [
    "wavg_pred = l.predict(X)*0.1 + dtree_reg.predict(X)*0.9\n",
    "wavg_pred"
   ]
  },
  {
   "cell_type": "code",
   "execution_count": 33,
   "metadata": {},
   "outputs": [
    {
     "name": "stdout",
     "output_type": "stream",
     "text": [
      "55520.71623506497\n",
      "76.35999584201515 %\n"
     ]
    }
   ],
   "source": [
    "#applying random forest\n",
    "#finding rmse values \n",
    "#finding accuracy score\n",
    "from sklearn.ensemble import RandomForestRegressor\n",
    "rt=RandomForestRegressor(max_depth=30,min_samples_leaf=20,max_features='sqrt',n_estimators=1000)\n",
    "rt.fit(X_train,y_train)\n",
    "predt=rt.predict(X_test)\n",
    "print(np.sqrt(mean_squared_error(y_test,predt)))\n",
    "accuracy=rt.score(X_test,y_test)\n",
    "print(accuracy*100,'%')"
   ]
  },
  {
   "cell_type": "code",
   "execution_count": 41,
   "metadata": {},
   "outputs": [
    {
     "name": "stdout",
     "output_type": "stream",
     "text": [
      "x_train1 shape : (16512, 6)\n",
      "x_test1 shape : (4128, 6)\n",
      "y_train1 shape : (16512,)\n",
      "y_test1 shape : (4128,)\n"
     ]
    }
   ],
   "source": [
    "#spliting the data for test and train \n",
    "#appliying linear regression with one indipendent variable\n",
    "#finding rmse values \n",
    "#finding accuracy score\n",
    "c=[\"longitude\",\"latitude\",\"housing_median_age\",\"total_rooms\",\"total_bedrooms\",\"population\",\"households\",\"ocean_proximity\"]\n",
    "a=X.drop(c,axis=1)\n",
    "b=d[\"median_house_value\"]\n",
    "X_train1,X_test1,y_train1,y_test1 =model_selection.train_test_split(a,b,test_size=0.2,random_state=45)\n",
    "print(\"x_train1 shape :\",X_train1.shape)\n",
    "print(\"x_test1 shape :\",X_test1.shape)\n",
    "print(\"y_train1 shape :\",y_train1.shape)\n",
    "print(\"y_test1 shape :\",y_test1.shape)"
   ]
  },
  {
   "cell_type": "code",
   "execution_count": 46,
   "metadata": {},
   "outputs": [
    {
     "name": "stdout",
     "output_type": "stream",
     "text": [
      "58.61603730197651 %\n",
      "74103.70824177629\n"
     ]
    }
   ],
   "source": [
    "le1 = LinearRegression()\n",
    "le1.fit(X_train1, y_train1)\n",
    "pred2=le1.predict(X_test1)\n",
    "accuracy=le1.score(X_test1,y_test1)\n",
    "print(accuracy*100,'%')\n",
    "print(np.sqrt(mean_squared_error(y_test1, pred2)))"
   ]
  },
  {
   "cell_type": "code",
   "execution_count": 53,
   "metadata": {},
   "outputs": [
    {
     "ename": "ValueError",
     "evalue": "x and y must be the same size",
     "output_type": "error",
     "traceback": [
      "\u001b[1;31m---------------------------------------------------------------------------\u001b[0m",
      "\u001b[1;31mValueError\u001b[0m                                Traceback (most recent call last)",
      "\u001b[1;32m<ipython-input-53-4bf48ccb80d2>\u001b[0m in \u001b[0;36m<module>\u001b[1;34m()\u001b[0m\n\u001b[0;32m      2\u001b[0m \u001b[0mplt\u001b[0m\u001b[1;33m.\u001b[0m\u001b[0msubplot\u001b[0m\u001b[1;33m(\u001b[0m\u001b[1;36m1\u001b[0m\u001b[1;33m,\u001b[0m\u001b[1;36m2\u001b[0m\u001b[1;33m,\u001b[0m\u001b[1;36m1\u001b[0m\u001b[1;33m)\u001b[0m\u001b[1;33m\u001b[0m\u001b[0m\n\u001b[0;32m      3\u001b[0m \u001b[0mplt\u001b[0m\u001b[1;33m.\u001b[0m\u001b[0mtitle\u001b[0m\u001b[1;33m(\u001b[0m\u001b[1;34m\"Training Data\"\u001b[0m\u001b[1;33m)\u001b[0m\u001b[1;33m\u001b[0m\u001b[0m\n\u001b[1;32m----> 4\u001b[1;33m \u001b[0mplt\u001b[0m\u001b[1;33m.\u001b[0m\u001b[0mscatter\u001b[0m\u001b[1;33m(\u001b[0m\u001b[0mX_train1\u001b[0m\u001b[1;33m,\u001b[0m\u001b[0my_train1\u001b[0m\u001b[1;33m,\u001b[0m\u001b[0mcolor\u001b[0m\u001b[1;33m=\u001b[0m\u001b[1;34m\"red\"\u001b[0m\u001b[1;33m)\u001b[0m\u001b[1;33m\u001b[0m\u001b[0m\n\u001b[0m\u001b[0;32m      5\u001b[0m \u001b[0mplt\u001b[0m\u001b[1;33m.\u001b[0m\u001b[0mplot\u001b[0m\u001b[1;33m(\u001b[0m\u001b[0mX_train1\u001b[0m\u001b[1;33m,\u001b[0m\u001b[0mle1\u001b[0m\u001b[1;33m.\u001b[0m\u001b[0mpredict\u001b[0m\u001b[1;33m(\u001b[0m\u001b[0mX_train1\u001b[0m\u001b[1;33m)\u001b[0m\u001b[1;33m,\u001b[0m\u001b[0mcolor\u001b[0m\u001b[1;33m=\u001b[0m\u001b[1;34m\"blue\"\u001b[0m\u001b[1;33m)\u001b[0m\u001b[1;33m\u001b[0m\u001b[0m\n\u001b[0;32m      6\u001b[0m \u001b[0mplt\u001b[0m\u001b[1;33m.\u001b[0m\u001b[0mXlabel\u001b[0m\u001b[1;33m(\u001b[0m\u001b[1;34m\"Median Income\"\u001b[0m\u001b[1;33m)\u001b[0m\u001b[1;33m\u001b[0m\u001b[0m\n",
      "\u001b[1;32m~\\Anaconda3\\lib\\site-packages\\matplotlib\\pyplot.py\u001b[0m in \u001b[0;36mscatter\u001b[1;34m(x, y, s, c, marker, cmap, norm, vmin, vmax, alpha, linewidths, verts, edgecolors, hold, data, **kwargs)\u001b[0m\n\u001b[0;32m   3376\u001b[0m                          \u001b[0mvmin\u001b[0m\u001b[1;33m=\u001b[0m\u001b[0mvmin\u001b[0m\u001b[1;33m,\u001b[0m \u001b[0mvmax\u001b[0m\u001b[1;33m=\u001b[0m\u001b[0mvmax\u001b[0m\u001b[1;33m,\u001b[0m \u001b[0malpha\u001b[0m\u001b[1;33m=\u001b[0m\u001b[0malpha\u001b[0m\u001b[1;33m,\u001b[0m\u001b[1;33m\u001b[0m\u001b[0m\n\u001b[0;32m   3377\u001b[0m                          \u001b[0mlinewidths\u001b[0m\u001b[1;33m=\u001b[0m\u001b[0mlinewidths\u001b[0m\u001b[1;33m,\u001b[0m \u001b[0mverts\u001b[0m\u001b[1;33m=\u001b[0m\u001b[0mverts\u001b[0m\u001b[1;33m,\u001b[0m\u001b[1;33m\u001b[0m\u001b[0m\n\u001b[1;32m-> 3378\u001b[1;33m                          edgecolors=edgecolors, data=data, **kwargs)\n\u001b[0m\u001b[0;32m   3379\u001b[0m     \u001b[1;32mfinally\u001b[0m\u001b[1;33m:\u001b[0m\u001b[1;33m\u001b[0m\u001b[0m\n\u001b[0;32m   3380\u001b[0m         \u001b[0max\u001b[0m\u001b[1;33m.\u001b[0m\u001b[0m_hold\u001b[0m \u001b[1;33m=\u001b[0m \u001b[0mwashold\u001b[0m\u001b[1;33m\u001b[0m\u001b[0m\n",
      "\u001b[1;32m~\\Anaconda3\\lib\\site-packages\\matplotlib\\__init__.py\u001b[0m in \u001b[0;36minner\u001b[1;34m(ax, *args, **kwargs)\u001b[0m\n\u001b[0;32m   1715\u001b[0m                     warnings.warn(msg % (label_namer, func.__name__),\n\u001b[0;32m   1716\u001b[0m                                   RuntimeWarning, stacklevel=2)\n\u001b[1;32m-> 1717\u001b[1;33m             \u001b[1;32mreturn\u001b[0m \u001b[0mfunc\u001b[0m\u001b[1;33m(\u001b[0m\u001b[0max\u001b[0m\u001b[1;33m,\u001b[0m \u001b[1;33m*\u001b[0m\u001b[0margs\u001b[0m\u001b[1;33m,\u001b[0m \u001b[1;33m**\u001b[0m\u001b[0mkwargs\u001b[0m\u001b[1;33m)\u001b[0m\u001b[1;33m\u001b[0m\u001b[0m\n\u001b[0m\u001b[0;32m   1718\u001b[0m         \u001b[0mpre_doc\u001b[0m \u001b[1;33m=\u001b[0m \u001b[0minner\u001b[0m\u001b[1;33m.\u001b[0m\u001b[0m__doc__\u001b[0m\u001b[1;33m\u001b[0m\u001b[0m\n\u001b[0;32m   1719\u001b[0m         \u001b[1;32mif\u001b[0m \u001b[0mpre_doc\u001b[0m \u001b[1;32mis\u001b[0m \u001b[1;32mNone\u001b[0m\u001b[1;33m:\u001b[0m\u001b[1;33m\u001b[0m\u001b[0m\n",
      "\u001b[1;32m~\\Anaconda3\\lib\\site-packages\\matplotlib\\axes\\_axes.py\u001b[0m in \u001b[0;36mscatter\u001b[1;34m(self, x, y, s, c, marker, cmap, norm, vmin, vmax, alpha, linewidths, verts, edgecolors, **kwargs)\u001b[0m\n\u001b[0;32m   3953\u001b[0m         \u001b[0my\u001b[0m \u001b[1;33m=\u001b[0m \u001b[0mnp\u001b[0m\u001b[1;33m.\u001b[0m\u001b[0mma\u001b[0m\u001b[1;33m.\u001b[0m\u001b[0mravel\u001b[0m\u001b[1;33m(\u001b[0m\u001b[0my\u001b[0m\u001b[1;33m)\u001b[0m\u001b[1;33m\u001b[0m\u001b[0m\n\u001b[0;32m   3954\u001b[0m         \u001b[1;32mif\u001b[0m \u001b[0mx\u001b[0m\u001b[1;33m.\u001b[0m\u001b[0msize\u001b[0m \u001b[1;33m!=\u001b[0m \u001b[0my\u001b[0m\u001b[1;33m.\u001b[0m\u001b[0msize\u001b[0m\u001b[1;33m:\u001b[0m\u001b[1;33m\u001b[0m\u001b[0m\n\u001b[1;32m-> 3955\u001b[1;33m             \u001b[1;32mraise\u001b[0m \u001b[0mValueError\u001b[0m\u001b[1;33m(\u001b[0m\u001b[1;34m\"x and y must be the same size\"\u001b[0m\u001b[1;33m)\u001b[0m\u001b[1;33m\u001b[0m\u001b[0m\n\u001b[0m\u001b[0;32m   3956\u001b[0m \u001b[1;33m\u001b[0m\u001b[0m\n\u001b[0;32m   3957\u001b[0m         \u001b[1;32mif\u001b[0m \u001b[0ms\u001b[0m \u001b[1;32mis\u001b[0m \u001b[1;32mNone\u001b[0m\u001b[1;33m:\u001b[0m\u001b[1;33m\u001b[0m\u001b[0m\n",
      "\u001b[1;31mValueError\u001b[0m: x and y must be the same size"
     ]
    },
    {
     "data": {
      "image/png": "[encoded data removed]",
      "text/plain": [
       "<matplotlib.figure.Figure at 0x13d41450>"
      ]
     },
     "metadata": {},
     "output_type": "display_data"
    }
   ],
   "source": [
    "plt.figure(figsize=(10,10))\n",
    "plt.subplot(1,2,1)\n",
    "plt.title(\"Training Data\")\n",
    "plt.scatter(X_train1,y_train1,color=\"red\")\n",
    "plt.plot(X_train1,le1.predict(X_train1),color=\"blue\")\n",
    "plt.Xlabel(\"Median Income\")\n",
    "plt.ylabel(\"Median House Value\")\n",
    "plt.legend()"
   ]
  },
  {
   "cell_type": "code",
   "execution_count": 54,
   "metadata": {},
   "outputs": [
    {
     "data": {
      "text/plain": [
       "Text(0,0.5,' Predicted median_house_value')"
      ]
     },
     "execution_count": 54,
     "metadata": {},
     "output_type": "execute_result"
    },
    {
     "data": {
      "image/png": "[encoded data removed]",
      "text/plain": [
       "<matplotlib.figure.Figure at 0xe568270>"
      ]
     },
     "metadata": {},
     "output_type": "display_data"
    }
   ],
   "source": [
    "fig = plt.figure(figsize=(25,8))\n",
    "plt.scatter(y_test1,pred2,marker=\"*\",s=100)\n",
    "plt.scatter(y_train1,le1.predict(X_train1),marker=\"s\",s=90,alpha=0.9)\n",
    "plt.xlabel(\" Actual median_house_value\")\n",
    "plt.ylabel(\" Predicted median_house_value\")"
   ]
  },
  {
   "cell_type": "code",
   "execution_count": null,
   "metadata": {},
   "outputs": [],
   "source": []
  }
 ],
 "metadata": {
  "kernelspec": {
   "display_name": "Python 3",
   "language": "python",
   "name": "python3"
  },
  "language_info": {
   "codemirror_mode": {
    "name": "ipython",
    "version": 3
   },
   "file_extension": ".py",
   "mimetype": "text/x-python",
   "name": "python",
   "nbconvert_exporter": "python",
   "pygments_lexer": "ipython3",
   "version": "3.6.4"
  }
 },
 "nbformat": 4,
 "nbformat_minor": 2
}
